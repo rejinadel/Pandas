{
  "nbformat": 4,
  "nbformat_minor": 0,
  "metadata": {
    "colab": {
      "provenance": [],
      "authorship_tag": "ABX9TyM8R3k7Wx/4xVxE/LSCvon6",
      "include_colab_link": true
    },
    "kernelspec": {
      "name": "python3",
      "display_name": "Python 3"
    },
    "language_info": {
      "name": "python"
    }
  },
  "cells": [
    {
      "cell_type": "markdown",
      "metadata": {
        "id": "view-in-github",
        "colab_type": "text"
      },
      "source": [
        "<a href=\"https://colab.research.google.com/github/rejinadel/Pandas/blob/main/Untitled13.ipynb\" target=\"_parent\"><img src=\"https://colab.research.google.com/assets/colab-badge.svg\" alt=\"Open In Colab\"/></a>"
      ]
    },
    {
      "cell_type": "markdown",
      "source": [
        "Importing pandas"
      ],
      "metadata": {
        "id": "UZSq0mmHLBpt"
      }
    },
    {
      "cell_type": "code",
      "source": [
        "import pandas as pd\n",
        "l = [1,2,3,4,5,6,7]\n",
        "pd.Series(1)"
      ],
      "metadata": {
        "colab": {
          "base_uri": "https://localhost:8080/"
        },
        "id": "2wBdnGx0LDxy",
        "outputId": "e604558f-7c17-42e1-fdd5-510054e2fb5e"
      },
      "execution_count": 3,
      "outputs": [
        {
          "output_type": "execute_result",
          "data": {
            "text/plain": [
              "0    1\n",
              "dtype: int64"
            ]
          },
          "metadata": {},
          "execution_count": 3
        }
      ]
    },
    {
      "cell_type": "markdown",
      "source": [
        "In a dict form"
      ],
      "metadata": {
        "id": "-Xsi5TJuLq6k"
      }
    },
    {
      "cell_type": "code",
      "source": [
        "import pandas as pd\n",
        "l = {\"apple\":1, \"ball\":2,\"cat\":3}\n",
        "pd.Series(1)"
      ],
      "metadata": {
        "colab": {
          "base_uri": "https://localhost:8080/"
        },
        "id": "ktxnvbLRLtNZ",
        "outputId": "213649dd-5d6f-421c-bd40-7971b0312bbc"
      },
      "execution_count": 5,
      "outputs": [
        {
          "output_type": "execute_result",
          "data": {
            "text/plain": [
              "0    1\n",
              "dtype: int64"
            ]
          },
          "metadata": {},
          "execution_count": 5
        }
      ]
    }
  ]
}